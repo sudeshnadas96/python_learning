{
 "cells": [
  {
   "cell_type": "code",
   "execution_count": 1,
   "id": "49d755f5",
   "metadata": {},
   "outputs": [
    {
     "name": "stdout",
     "output_type": "stream",
     "text": [
      "No need\n"
     ]
    }
   ],
   "source": [
    "hungry = False\n",
    "\n",
    "if hungry:\n",
    "    print('FEED ME')\n",
    "else:\n",
    "    print('No need')"
   ]
  },
  {
   "cell_type": "code",
   "execution_count": 2,
   "id": "cd03b0bd",
   "metadata": {},
   "outputs": [
    {
     "name": "stdout",
     "output_type": "stream",
     "text": [
      "cool\n"
     ]
    }
   ],
   "source": [
    "loc = 'Bank'\n",
    "\n",
    "if loc == 'autoshop':\n",
    "    print('cool')\n",
    "elif loc == 'Bank':\n",
    "    print('cool')\n",
    "else:\n",
    "    print('dont know')"
   ]
  },
  {
   "cell_type": "code",
   "execution_count": 3,
   "id": "97c5d82d",
   "metadata": {},
   "outputs": [],
   "source": [
    "mylist = [1, 2, 3, 4,5,6,7,8,9,10]"
   ]
  },
  {
   "cell_type": "code",
   "execution_count": 4,
   "id": "3362e22c",
   "metadata": {},
   "outputs": [
    {
     "name": "stdout",
     "output_type": "stream",
     "text": [
      "1\n",
      "2\n",
      "3\n",
      "4\n",
      "5\n",
      "6\n",
      "7\n",
      "8\n",
      "9\n",
      "10\n"
     ]
    }
   ],
   "source": [
    "for num in mylist:\n",
    "    print(num)"
   ]
  },
  {
   "cell_type": "code",
   "execution_count": 5,
   "id": "f045ac9f",
   "metadata": {},
   "outputs": [
    {
     "name": "stdout",
     "output_type": "stream",
     "text": [
      "not divisible by 5: 1\n",
      "not divisible by 5: 2\n",
      "not divisible by 5: 3\n",
      "not divisible by 5: 4\n",
      "5\n",
      "not divisible by 5: 6\n",
      "not divisible by 5: 7\n",
      "not divisible by 5: 8\n",
      "not divisible by 5: 9\n",
      "10\n"
     ]
    }
   ],
   "source": [
    "for num in mylist:\n",
    "    if num%5 == 0:\n",
    "        print(num)\n",
    "    else:\n",
    "        print(f'not divisible by 5: {num}')"
   ]
  },
  {
   "cell_type": "code",
   "execution_count": 6,
   "id": "8cebbe76",
   "metadata": {},
   "outputs": [
    {
     "name": "stdout",
     "output_type": "stream",
     "text": [
      "hi!\n",
      "hi!\n",
      "hi!\n",
      "hi!\n",
      "hi!\n"
     ]
    }
   ],
   "source": [
    "for _ in 'Hello':\n",
    "    print('hi!')"
   ]
  },
  {
   "cell_type": "code",
   "execution_count": 7,
   "id": "6a7d6d58",
   "metadata": {},
   "outputs": [],
   "source": [
    "#tuple unpacking\n",
    "mylist = [(1,2), (2,3),(3,4)]"
   ]
  },
  {
   "cell_type": "code",
   "execution_count": 8,
   "id": "394f8706",
   "metadata": {},
   "outputs": [
    {
     "name": "stdout",
     "output_type": "stream",
     "text": [
      "(1, 2)\n",
      "(2, 3)\n",
      "(3, 4)\n"
     ]
    }
   ],
   "source": [
    "for tup in mylist:\n",
    "    print(tup)"
   ]
  },
  {
   "cell_type": "code",
   "execution_count": 9,
   "id": "54dd4e81",
   "metadata": {},
   "outputs": [
    {
     "name": "stdout",
     "output_type": "stream",
     "text": [
      "2\n",
      "1\n",
      "3\n",
      "2\n",
      "4\n",
      "3\n"
     ]
    }
   ],
   "source": [
    "for (a,b) in mylist:\n",
    "    print(b)\n",
    "    print(a)"
   ]
  },
  {
   "cell_type": "code",
   "execution_count": 10,
   "id": "5c169e6a",
   "metadata": {},
   "outputs": [],
   "source": [
    "#dictionary\n",
    "#dictionary are unordered\n",
    "d = {'k1':1,'k2':2,'k3':3}"
   ]
  },
  {
   "cell_type": "code",
   "execution_count": 11,
   "id": "f12fb4d5",
   "metadata": {},
   "outputs": [
    {
     "name": "stdout",
     "output_type": "stream",
     "text": [
      "('k1', 1)\n",
      "('k2', 2)\n",
      "('k3', 3)\n"
     ]
    }
   ],
   "source": [
    "for items in d.items():\n",
    "    print(items)"
   ]
  },
  {
   "cell_type": "code",
   "execution_count": 12,
   "id": "1d8c61fb",
   "metadata": {},
   "outputs": [
    {
     "name": "stdout",
     "output_type": "stream",
     "text": [
      "1\n",
      "2\n",
      "3\n"
     ]
    }
   ],
   "source": [
    "for b in d.values():\n",
    "    print(b)"
   ]
  },
  {
   "cell_type": "code",
   "execution_count": 13,
   "id": "306a5711",
   "metadata": {},
   "outputs": [
    {
     "name": "stdout",
     "output_type": "stream",
     "text": [
      "the current value is 0\n",
      "the current value is 1\n",
      "the current value is 2\n",
      "the current value is 3\n",
      "the current value is 4\n",
      "the current value is 5\n",
      "the current value is 6\n"
     ]
    }
   ],
   "source": [
    "#while loops\n",
    "x = 0\n",
    "while x <= 6:\n",
    "    print(f'the current value is {x}')\n",
    "    x = x + 1"
   ]
  },
  {
   "cell_type": "code",
   "execution_count": 14,
   "id": "9a35e0f5",
   "metadata": {},
   "outputs": [
    {
     "name": "stdout",
     "output_type": "stream",
     "text": [
      "0\n",
      "1\n",
      "2\n",
      "3\n",
      "4\n",
      "5\n",
      "6\n",
      "7\n",
      "8\n",
      "9\n",
      "10\n",
      "11\n",
      "12\n",
      "13\n",
      "14\n"
     ]
    }
   ],
   "source": [
    "for num in range(15):\n",
    "    print(num)"
   ]
  },
  {
   "cell_type": "code",
   "execution_count": 15,
   "id": "b33f43eb",
   "metadata": {},
   "outputs": [
    {
     "name": "stdout",
     "output_type": "stream",
     "text": [
      "3\n",
      "6\n",
      "9\n",
      "12\n"
     ]
    }
   ],
   "source": [
    "#useful operators\n",
    "# in range we can also add step size\n",
    "for num in range(3,15,3):\n",
    "    print(num)"
   ]
  },
  {
   "cell_type": "code",
   "execution_count": 16,
   "id": "54840f0f",
   "metadata": {},
   "outputs": [
    {
     "data": {
      "text/plain": [
       "[0, 2, 4, 6, 8, 10]"
      ]
     },
     "execution_count": 16,
     "metadata": {},
     "output_type": "execute_result"
    }
   ],
   "source": [
    "list(range(0,11,2))"
   ]
  },
  {
   "cell_type": "code",
   "execution_count": 17,
   "id": "04ca79ad",
   "metadata": {},
   "outputs": [
    {
     "name": "stdout",
     "output_type": "stream",
     "text": [
      "h\n",
      "e\n",
      "l\n",
      "l\n",
      "o\n"
     ]
    }
   ],
   "source": [
    "#enumerate returns tuples\n",
    "index_count = 0\n",
    "word = \"hello\"\n",
    "for letter in word:\n",
    "    print(word[index_count])\n",
    "    index_count += 1"
   ]
  },
  {
   "cell_type": "code",
   "execution_count": 18,
   "id": "a42a1316",
   "metadata": {},
   "outputs": [
    {
     "name": "stdout",
     "output_type": "stream",
     "text": [
      "the letter in 0 index is h\n",
      "the letter in 1 index is e\n",
      "the letter in 2 index is l\n",
      "the letter in 3 index is l\n",
      "the letter in 4 index is o\n"
     ]
    }
   ],
   "source": [
    "index_count = 0\n",
    "for letter in word:\n",
    "    print('the letter in {} index is {}'.format(index_count, letter))\n",
    "    index_count += 1"
   ]
  },
  {
   "cell_type": "code",
   "execution_count": 19,
   "id": "7eb1c4ad",
   "metadata": {},
   "outputs": [
    {
     "name": "stdout",
     "output_type": "stream",
     "text": [
      "0\n",
      "h\n",
      "\n",
      "\n",
      "1\n",
      "e\n",
      "\n",
      "\n",
      "2\n",
      "l\n",
      "\n",
      "\n",
      "3\n",
      "l\n",
      "\n",
      "\n",
      "4\n",
      "o\n",
      "\n",
      "\n"
     ]
    }
   ],
   "source": [
    "word = \"hello\"\n",
    "for index,letter in enumerate(word):\n",
    "    print(index)\n",
    "    print(letter)\n",
    "    print('\\n')"
   ]
  },
  {
   "cell_type": "code",
   "execution_count": 20,
   "id": "725fc482",
   "metadata": {},
   "outputs": [],
   "source": [
    "#zip operator returns tuples\n",
    "#zip operator zips together two list\n",
    "mylist = [1,2,3]\n",
    "mylist1 = ['a', 'b', 'c']"
   ]
  },
  {
   "cell_type": "code",
   "execution_count": 21,
   "id": "c84e61fb",
   "metadata": {},
   "outputs": [
    {
     "name": "stdout",
     "output_type": "stream",
     "text": [
      "(1, 'a')\n",
      "(2, 'b')\n",
      "(3, 'c')\n"
     ]
    }
   ],
   "source": [
    "#method 1 to zip using loop\n",
    "for item in zip(mylist, mylist1):\n",
    "    print(item)"
   ]
  },
  {
   "cell_type": "code",
   "execution_count": 22,
   "id": "0acc19f1",
   "metadata": {},
   "outputs": [
    {
     "data": {
      "text/plain": [
       "[(1, 'a'), (2, 'b'), (3, 'c')]"
      ]
     },
     "execution_count": 22,
     "metadata": {},
     "output_type": "execute_result"
    }
   ],
   "source": [
    "#method2\n",
    "list(zip(mylist, mylist1))"
   ]
  },
  {
   "cell_type": "code",
   "execution_count": 23,
   "id": "b4194e3b",
   "metadata": {},
   "outputs": [
    {
     "data": {
      "text/plain": [
       "False"
      ]
     },
     "execution_count": 23,
     "metadata": {},
     "output_type": "execute_result"
    }
   ],
   "source": [
    "#method to check if an item is present in list\n",
    "'x' in [1,2,3]"
   ]
  },
  {
   "cell_type": "code",
   "execution_count": 24,
   "id": "251758c3",
   "metadata": {},
   "outputs": [
    {
     "data": {
      "text/plain": [
       "True"
      ]
     },
     "execution_count": 24,
     "metadata": {},
     "output_type": "execute_result"
    }
   ],
   "source": [
    "'x' in ['x','y','z']"
   ]
  },
  {
   "cell_type": "code",
   "execution_count": 25,
   "id": "fdbc3fc7",
   "metadata": {},
   "outputs": [
    {
     "data": {
      "text/plain": [
       "True"
      ]
     },
     "execution_count": 25,
     "metadata": {},
     "output_type": "execute_result"
    }
   ],
   "source": [
    "'x' in [1, 'x', 'z']"
   ]
  },
  {
   "cell_type": "code",
   "execution_count": 26,
   "id": "e45ffd1b",
   "metadata": {},
   "outputs": [],
   "source": [
    "# random library has many inbuilt function\n",
    "# shuffle function only jumbles the list,if it is stored in another variable then it will not return any value \n",
    "from random import shuffle\n"
   ]
  },
  {
   "cell_type": "code",
   "execution_count": 27,
   "id": "b21da4bb",
   "metadata": {},
   "outputs": [],
   "source": [
    "mylist = [1, 2, 3, 4, 9, 10]"
   ]
  },
  {
   "cell_type": "code",
   "execution_count": 28,
   "id": "35e08898",
   "metadata": {},
   "outputs": [],
   "source": [
    "shuffle(mylist)"
   ]
  },
  {
   "cell_type": "code",
   "execution_count": 29,
   "id": "65770896",
   "metadata": {},
   "outputs": [
    {
     "data": {
      "text/plain": [
       "[4, 10, 2, 3, 1, 9]"
      ]
     },
     "execution_count": 29,
     "metadata": {},
     "output_type": "execute_result"
    }
   ],
   "source": [
    "mylist"
   ]
  },
  {
   "cell_type": "code",
   "execution_count": 30,
   "id": "82019515",
   "metadata": {},
   "outputs": [
    {
     "data": {
      "text/plain": [
       "57"
      ]
     },
     "execution_count": 30,
     "metadata": {},
     "output_type": "execute_result"
    }
   ],
   "source": [
    "#random library randint function\n",
    "# used to grab random integers(we have to provide range)\n",
    "from random import randint\n",
    "randint(0, 100)"
   ]
  },
  {
   "cell_type": "code",
   "execution_count": 31,
   "id": "25d4b49e",
   "metadata": {},
   "outputs": [],
   "source": [
    "mynum = randint(1, 100)"
   ]
  },
  {
   "cell_type": "code",
   "execution_count": 32,
   "id": "eafcbab1",
   "metadata": {},
   "outputs": [
    {
     "data": {
      "text/plain": [
       "26"
      ]
     },
     "execution_count": 32,
     "metadata": {},
     "output_type": "execute_result"
    }
   ],
   "source": [
    "mynum"
   ]
  },
  {
   "cell_type": "code",
   "execution_count": 33,
   "id": "fb140d11",
   "metadata": {},
   "outputs": [
    {
     "name": "stdout",
     "output_type": "stream",
     "text": [
      "Enter your name:priya\n"
     ]
    }
   ],
   "source": [
    "# taking input from user\n",
    "# input will always return string type\n",
    "# to convert we have to do conversion of type\n",
    "result = input(\"Enter your name:\")"
   ]
  },
  {
   "cell_type": "code",
   "execution_count": 34,
   "id": "3ac529ff",
   "metadata": {},
   "outputs": [
    {
     "data": {
      "text/plain": [
       "'priya'"
      ]
     },
     "execution_count": 34,
     "metadata": {},
     "output_type": "execute_result"
    }
   ],
   "source": [
    "result"
   ]
  },
  {
   "cell_type": "code",
   "execution_count": 35,
   "id": "75fe6efb",
   "metadata": {},
   "outputs": [
    {
     "name": "stdout",
     "output_type": "stream",
     "text": [
      "Enter your favourite number:6\n"
     ]
    }
   ],
   "source": [
    "result_num = input(\"Enter your favourite number:\")"
   ]
  },
  {
   "cell_type": "code",
   "execution_count": 36,
   "id": "16f96cdf",
   "metadata": {},
   "outputs": [
    {
     "data": {
      "text/plain": [
       "str"
      ]
     },
     "execution_count": 36,
     "metadata": {},
     "output_type": "execute_result"
    }
   ],
   "source": [
    "type(result_num)"
   ]
  },
  {
   "cell_type": "code",
   "execution_count": 37,
   "id": "0221eded",
   "metadata": {},
   "outputs": [
    {
     "data": {
      "text/plain": [
       "6.0"
      ]
     },
     "execution_count": 37,
     "metadata": {},
     "output_type": "execute_result"
    }
   ],
   "source": [
    "float(result_num)"
   ]
  },
  {
   "cell_type": "code",
   "execution_count": 38,
   "id": "0336bde7",
   "metadata": {},
   "outputs": [
    {
     "name": "stdout",
     "output_type": "stream",
     "text": [
      "Fav number:5\n"
     ]
    }
   ],
   "source": [
    "# we can wrap\n",
    "result = int(input('Fav number:'))"
   ]
  },
  {
   "cell_type": "code",
   "execution_count": 39,
   "id": "92144f0c",
   "metadata": {},
   "outputs": [
    {
     "data": {
      "text/plain": [
       "int"
      ]
     },
     "execution_count": 39,
     "metadata": {},
     "output_type": "execute_result"
    }
   ],
   "source": [
    "type(result)"
   ]
  },
  {
   "cell_type": "code",
   "execution_count": 40,
   "id": "6b2f0348",
   "metadata": {},
   "outputs": [],
   "source": [
    "# List comprehension in python\n",
    "\n",
    "#normally\n",
    "mystring = 'Hello'\n",
    "mylist = []\n",
    "\n",
    "\n",
    "for letter in mystring:\n",
    "    mylist.append(letter)"
   ]
  },
  {
   "cell_type": "code",
   "execution_count": 41,
   "id": "aed0d8c2",
   "metadata": {},
   "outputs": [
    {
     "data": {
      "text/plain": [
       "['H', 'e', 'l', 'l', 'o']"
      ]
     },
     "execution_count": 41,
     "metadata": {},
     "output_type": "execute_result"
    }
   ],
   "source": [
    "mylist"
   ]
  },
  {
   "cell_type": "code",
   "execution_count": 42,
   "id": "66dd6851",
   "metadata": {},
   "outputs": [],
   "source": [
    "#with list comprehension, the above example can be done as :\n",
    "mylist = [letter for letter in mystring]"
   ]
  },
  {
   "cell_type": "code",
   "execution_count": 43,
   "id": "3fb2fa60",
   "metadata": {},
   "outputs": [
    {
     "data": {
      "text/plain": [
       "['H', 'e', 'l', 'l', 'o']"
      ]
     },
     "execution_count": 43,
     "metadata": {},
     "output_type": "execute_result"
    }
   ],
   "source": [
    "mylist"
   ]
  },
  {
   "cell_type": "code",
   "execution_count": 44,
   "id": "c0c61ca6",
   "metadata": {},
   "outputs": [],
   "source": [
    "mylist = [x for x in 'world']"
   ]
  },
  {
   "cell_type": "code",
   "execution_count": 45,
   "id": "55330fba",
   "metadata": {
    "scrolled": true
   },
   "outputs": [
    {
     "data": {
      "text/plain": [
       "['w', 'o', 'r', 'l', 'd']"
      ]
     },
     "execution_count": 45,
     "metadata": {},
     "output_type": "execute_result"
    }
   ],
   "source": [
    "mylist"
   ]
  },
  {
   "cell_type": "code",
   "execution_count": 46,
   "id": "9e607a4b",
   "metadata": {},
   "outputs": [],
   "source": [
    "mylist = [num for num in range(1,10)]"
   ]
  },
  {
   "cell_type": "code",
   "execution_count": 47,
   "id": "a9012d32",
   "metadata": {},
   "outputs": [
    {
     "data": {
      "text/plain": [
       "[1, 2, 3, 4, 5, 6, 7, 8, 9]"
      ]
     },
     "execution_count": 47,
     "metadata": {},
     "output_type": "execute_result"
    }
   ],
   "source": [
    "mylist"
   ]
  },
  {
   "cell_type": "code",
   "execution_count": 48,
   "id": "50207fe0",
   "metadata": {},
   "outputs": [],
   "source": [
    "mylist = [num**2 for num in range(1,9)]"
   ]
  },
  {
   "cell_type": "code",
   "execution_count": 49,
   "id": "b7fbafee",
   "metadata": {},
   "outputs": [
    {
     "data": {
      "text/plain": [
       "[1, 4, 9, 16, 25, 36, 49, 64]"
      ]
     },
     "execution_count": 49,
     "metadata": {},
     "output_type": "execute_result"
    }
   ],
   "source": [
    "mylist"
   ]
  },
  {
   "cell_type": "code",
   "execution_count": 50,
   "id": "1f3544d5",
   "metadata": {},
   "outputs": [],
   "source": [
    "# return even numbers from a list \n",
    "mylist = [x for x in range(0,15) if x%2 == 0]"
   ]
  },
  {
   "cell_type": "code",
   "execution_count": 51,
   "id": "2e6ec546",
   "metadata": {},
   "outputs": [
    {
     "data": {
      "text/plain": [
       "[0, 2, 4, 6, 8, 10, 12, 14]"
      ]
     },
     "execution_count": 51,
     "metadata": {},
     "output_type": "execute_result"
    }
   ],
   "source": [
    "mylist"
   ]
  },
  {
   "cell_type": "code",
   "execution_count": 52,
   "id": "2878d32c",
   "metadata": {},
   "outputs": [],
   "source": [
    "celcius = [0, 1, 2, 3, 4]\n",
    "farenheit = [(9/5)*temp + 32 for temp in celcius] "
   ]
  },
  {
   "cell_type": "code",
   "execution_count": 53,
   "id": "1f23bf9c",
   "metadata": {},
   "outputs": [
    {
     "data": {
      "text/plain": [
       "[32.0, 33.8, 35.6, 37.4, 39.2]"
      ]
     },
     "execution_count": 53,
     "metadata": {},
     "output_type": "execute_result"
    }
   ],
   "source": [
    "farenheit"
   ]
  },
  {
   "cell_type": "code",
   "execution_count": 54,
   "id": "9a073e96",
   "metadata": {},
   "outputs": [],
   "source": [
    "farenheit = []\n",
    "for temp in celcius:\n",
    "    farenheit.append((9/5)* temp + 32 )"
   ]
  },
  {
   "cell_type": "code",
   "execution_count": 55,
   "id": "fb159138",
   "metadata": {},
   "outputs": [
    {
     "data": {
      "text/plain": [
       "[32.0, 33.8, 35.6, 37.4, 39.2]"
      ]
     },
     "execution_count": 55,
     "metadata": {},
     "output_type": "execute_result"
    }
   ],
   "source": [
    "farenheit"
   ]
  },
  {
   "cell_type": "code",
   "execution_count": 56,
   "id": "d9fa3ff9",
   "metadata": {},
   "outputs": [],
   "source": [
    "farenheit = [200, 450, 10]\n",
    "celcius = [(5/9* temp) - 32 for temp in farenheit]"
   ]
  },
  {
   "cell_type": "code",
   "execution_count": 57,
   "id": "c15577e8",
   "metadata": {},
   "outputs": [
    {
     "data": {
      "text/plain": [
       "[79.11111111111111, 218.0, -26.444444444444443]"
      ]
     },
     "execution_count": 57,
     "metadata": {},
     "output_type": "execute_result"
    }
   ],
   "source": [
    "celcius"
   ]
  },
  {
   "cell_type": "code",
   "execution_count": 58,
   "id": "073fc9e6",
   "metadata": {},
   "outputs": [],
   "source": [
    "# if- else statements in list comprehension\n",
    "#preferable not use as it decreases readibility\n",
    "results = [x if x % 2 != 0 else 'EVEN' for x in range(0, 11)]"
   ]
  },
  {
   "cell_type": "code",
   "execution_count": 59,
   "id": "8e9706ac",
   "metadata": {},
   "outputs": [
    {
     "data": {
      "text/plain": [
       "['EVEN', 1, 'EVEN', 3, 'EVEN', 5, 'EVEN', 7, 'EVEN', 9, 'EVEN']"
      ]
     },
     "execution_count": 59,
     "metadata": {},
     "output_type": "execute_result"
    }
   ],
   "source": [
    "results"
   ]
  },
  {
   "cell_type": "code",
   "execution_count": 60,
   "id": "481fd56f",
   "metadata": {},
   "outputs": [
    {
     "name": "stdout",
     "output_type": "stream",
     "text": [
      "2 even\n",
      "3 odd\n",
      "4 even\n",
      "5 odd\n",
      "6 even\n",
      "7 odd\n",
      "8 even\n",
      "9 odd\n",
      "10 even\n"
     ]
    }
   ],
   "source": [
    "start, end = 2, 11\n",
    "for num in range (start,end):\n",
    "    if num % 2 == 0:\n",
    "        print(num, 'even')\n",
    "    else:\n",
    "        print(num,'odd')"
   ]
  },
  {
   "cell_type": "code",
   "execution_count": 61,
   "id": "44d70dc5",
   "metadata": {},
   "outputs": [],
   "source": [
    "def check_if_even(num):\n",
    "    if num % 2 == 0:\n",
    "        print(num, 'is a even number')\n",
    "    else:\n",
    "        print(num, 'is a odd number')"
   ]
  },
  {
   "cell_type": "code",
   "execution_count": 62,
   "id": "733577e5",
   "metadata": {},
   "outputs": [
    {
     "name": "stdout",
     "output_type": "stream",
     "text": [
      "2 is a even number\n"
     ]
    }
   ],
   "source": [
    "check_if_even(2)"
   ]
  },
  {
   "cell_type": "code",
   "execution_count": 63,
   "id": "3e40245e",
   "metadata": {},
   "outputs": [],
   "source": [
    "def check_if_even(num):\n",
    "    x = bool(num % 2 == 0)\n",
    "    return x\n",
    "    \n",
    "    "
   ]
  },
  {
   "cell_type": "code",
   "execution_count": 64,
   "id": "a9796560",
   "metadata": {},
   "outputs": [
    {
     "data": {
      "text/plain": [
       "False"
      ]
     },
     "execution_count": 64,
     "metadata": {},
     "output_type": "execute_result"
    }
   ],
   "source": [
    "check_if_even(1)"
   ]
  },
  {
   "cell_type": "code",
   "execution_count": 76,
   "id": "4ca7b260",
   "metadata": {},
   "outputs": [
    {
     "name": "stdout",
     "output_type": "stream",
     "text": [
      "enter the number7\n",
      "Fibonnaci series: 0 1 1 2 3 5 8 \n"
     ]
    }
   ],
   "source": [
    "num = int(input(\"enter the number\"))\n",
    "n1, n2 = 0, 1\n",
    "print(\"Fibonnaci series:\", n1, n2, end =\" \")\n",
    "for i in range(2, num):\n",
    "    n3 = n1 + n2\n",
    "    n1 = n2\n",
    "    n2 = n3\n",
    "    print(n3, end =\" \")\n",
    "print()"
   ]
  },
  {
   "cell_type": "code",
   "execution_count": 77,
   "id": "803a9042",
   "metadata": {},
   "outputs": [],
   "source": [
    "#nested loop in list comprehension\n",
    "mylist = []\n",
    "for x in [1, 2, 3]:\n",
    "    for y in [100, 200, 300]:\n",
    "        mylist.append(x*y)"
   ]
  },
  {
   "cell_type": "code",
   "execution_count": 78,
   "id": "bcc3f6fe",
   "metadata": {},
   "outputs": [
    {
     "data": {
      "text/plain": [
       "[100, 200, 300, 200, 400, 600, 300, 600, 900]"
      ]
     },
     "execution_count": 78,
     "metadata": {},
     "output_type": "execute_result"
    }
   ],
   "source": [
    "mylist"
   ]
  },
  {
   "cell_type": "code",
   "execution_count": 79,
   "id": "f49f65f5",
   "metadata": {},
   "outputs": [],
   "source": [
    "mylist = [x*y for x in [2,4,6] for y in [100, 200, 300]]"
   ]
  },
  {
   "cell_type": "code",
   "execution_count": 80,
   "id": "3eeb9c93",
   "metadata": {},
   "outputs": [
    {
     "data": {
      "text/plain": [
       "[200, 400, 600, 400, 800, 1200, 600, 1200, 1800]"
      ]
     },
     "execution_count": 80,
     "metadata": {},
     "output_type": "execute_result"
    }
   ],
   "source": [
    "mylist"
   ]
  },
  {
   "cell_type": "code",
   "execution_count": null,
   "id": "60b1a514",
   "metadata": {},
   "outputs": [],
   "source": []
  }
 ],
 "metadata": {
  "kernelspec": {
   "display_name": "Python 3 (ipykernel)",
   "language": "python",
   "name": "python3"
  },
  "language_info": {
   "codemirror_mode": {
    "name": "ipython",
    "version": 3
   },
   "file_extension": ".py",
   "mimetype": "text/x-python",
   "name": "python",
   "nbconvert_exporter": "python",
   "pygments_lexer": "ipython3",
   "version": "3.9.13"
  }
 },
 "nbformat": 4,
 "nbformat_minor": 5
}
